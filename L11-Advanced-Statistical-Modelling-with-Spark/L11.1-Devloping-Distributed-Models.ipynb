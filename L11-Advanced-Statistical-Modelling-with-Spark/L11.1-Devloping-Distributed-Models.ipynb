{
 "cells": [
  {
   "cell_type": "markdown",
   "id": "a5ac78e7",
   "metadata": {
    "slideshow": {
     "slide_type": "slide"
    }
   },
   "source": [
    "# Developing Distributed Models with Spark\n",
    "\n",
    "Feng Li\n",
    "\n",
    "School of Statistics and Mathematics\n",
    "\n",
    "Central University of Finance and Economics\n",
    "\n",
    "[feng.li@cufe.edu.cn](mailto:feng.li@cufe.edu.cn)\n",
    "\n",
    "[https://feng.li/](https://feng.li/)"
   ]
  },
  {
   "cell_type": "markdown",
   "id": "4e0f1687",
   "metadata": {
    "slideshow": {
     "slide_type": "slide"
    },
    "toc": true
   },
   "source": [
    "<h1>Outline<span class=\"tocSkip\"></span></h1>\n",
    "<div class=\"toc\"><ul class=\"toc-item\"><li><span><a href=\"#The-move-code-to-data-philosophy\" data-toc-modified-id=\"The-move-code-to-data-philosophy-1\">The <em>move-code-to-data</em> philosophy</a></span></li><li><span><a href=\"#What-do-we-have-with-Spark?\" data-toc-modified-id=\"What-do-we-have-with-Spark?-2\">What do we have with Spark?</a></span></li><li><span><a href=\"#What-do-we-(statisticians)-miss-with-distributed-platforms?\" data-toc-modified-id=\"What-do-we-(statisticians)-miss-with-distributed-platforms?-3\">What do we (<em>statisticians</em>) miss with distributed platforms?</a></span></li><li><span><a href=\"#Why-is-it-difficult-to-develop-statistical-models-on-distributed-systems?\" data-toc-modified-id=\"Why-is-it-difficult-to-develop-statistical-models-on-distributed-systems?-4\">Why is it difficult to develop statistical models on distributed systems?</a></span></li><li><span><a href=\"#Spark-APIs-for-statisticians-to-develop-distributed-models\" data-toc-modified-id=\"Spark-APIs-for-statisticians-to-develop-distributed-models-5\">Spark APIs for statisticians to develop distributed models</a></span><ul class=\"toc-item\"><li><span><a href=\"#UDFs-for-DataFrames-based-API\" data-toc-modified-id=\"UDFs-for-DataFrames-based-API-5.1\">UDFs for DataFrames-based API</a></span></li><li><span><a href=\"#RDD-API-with-linear-algebra-support\" data-toc-modified-id=\"RDD-API-with-linear-algebra-support-5.2\">RDD API with linear algebra support</a></span><ul class=\"toc-item\"><li><span><a href=\"#Linear-algebra-and-optimization\" data-toc-modified-id=\"Linear-algebra-and-optimization-5.2.1\">Linear algebra and optimization</a></span></li><li><span><a href=\"#Random-variable-generator-and-distribution\" data-toc-modified-id=\"Random-variable-generator-and-distribution-5.2.2\">Random variable generator and distribution</a></span></li></ul></li></ul></li><li><span><a href=\"#Real-projects-on-Spark\" data-toc-modified-id=\"Real-projects-on-Spark-6\">Real projects on Spark</a></span><ul class=\"toc-item\"><li><span><a href=\"#DLSA:-Least-squares-approximation-for-a-distributed-system\" data-toc-modified-id=\"DLSA:-Least-squares-approximation-for-a-distributed-system-6.1\">DLSA: Least squares approximation for a distributed system</a></span></li><li><span><a href=\"#Distributed-quantile-regression-by-pilot-sampling-and-one-step-updating.\" data-toc-modified-id=\"Distributed-quantile-regression-by-pilot-sampling-and-one-step-updating.-6.2\">Distributed quantile regression by pilot sampling and one-step updating.</a></span></li><li><span><a href=\"#Distributed-ARIMA-models-for-ultra-long-time-series\" data-toc-modified-id=\"Distributed-ARIMA-models-for-ultra-long-time-series-6.3\">Distributed ARIMA models for ultra-long time series</a></span></li></ul></li><li><span><a href=\"#Take-home-message\" data-toc-modified-id=\"Take-home-message-7\">Take home message</a></span></li></ul></div>"
   ]
  },
  {
   "cell_type": "markdown",
   "id": "4a908100",
   "metadata": {
    "slideshow": {
     "slide_type": "slide"
    }
   },
   "source": [
    "## The _move-code-to-data_ philosophy\n",
    "\n",
    "- The traditional supercomputer requires repeat transmissions of data between clients and servers. This works fine for computationally intensive work, but for data-intensive processing, the size of data becomes too large to be moved around easily. \n",
    "\n",
    "\n",
    "- A distributed systems focuses on **moving code to data**. \n",
    "\n",
    "- The clients send only the programs to be executed, and these programs are usually small.\n",
    "\n",
    "- More importantly, data are broken up and distributed across the cluster, and as much as possible, computation on a piece of data takes place on the same machine where that piece of data resides.\n",
    "\n",
    "- The whole process is known as **MapReduce**."
   ]
  },
  {
   "cell_type": "markdown",
   "id": "abd2e9a2",
   "metadata": {
    "slideshow": {
     "slide_type": "slide"
    }
   },
   "source": [
    "![MapReduce](figures/spark.png)"
   ]
  },
  {
   "cell_type": "markdown",
   "id": "36516524",
   "metadata": {
    "slideshow": {
     "slide_type": "slide"
    }
   },
   "source": [
    "![Spark-GitHub](figures/spark-github.png)"
   ]
  },
  {
   "cell_type": "markdown",
   "id": "19c20ac9",
   "metadata": {
    "slideshow": {
     "slide_type": "slide"
    }
   },
   "source": [
    "![ms](figures/ms.png)"
   ]
  },
  {
   "cell_type": "markdown",
   "id": "9c08922f",
   "metadata": {
    "slideshow": {
     "slide_type": "slide"
    }
   },
   "source": [
    "## What do we have with Spark?"
   ]
  },
  {
   "cell_type": "markdown",
   "id": "0a97e10d",
   "metadata": {
    "slideshow": {
     "slide_type": "slide"
    }
   },
   "source": [
    "![Spark-ML](figures/spark-ml.png)"
   ]
  },
  {
   "cell_type": "markdown",
   "id": "23307d80",
   "metadata": {
    "slideshow": {
     "slide_type": "slide"
    }
   },
   "source": [
    "## What do we ( _statisticians_ ) miss with distributed platforms?"
   ]
  },
  {
   "cell_type": "markdown",
   "id": "ecaee9d3",
   "metadata": {
    "slideshow": {
     "slide_type": "slide"
    }
   },
   "source": [
    "- Interpretable statistical models such as **GLM** and **Time Series Forecasting Models**.\n",
    "\n",
    "- Efficient Bayesian inference tools such as __MCMC__, __Gibbs__ and __Variational Inference__.\n",
    "\n",
    "- Distributed statistical visualization tools like `ggplot2`, `seaborn` and `plotly`\n",
    "\n",
    "- ..."
   ]
  },
  {
   "cell_type": "markdown",
   "id": "6b2a96e1",
   "metadata": {
    "slideshow": {
     "slide_type": "slide"
    }
   },
   "source": [
    "## Why is it difficult to develop statistical models on distributed systems?\n",
    "\n",
    "\n",
    "-- _Especially for statisticians_"
   ]
  },
  {
   "cell_type": "markdown",
   "id": "a749ca3c",
   "metadata": {
    "slideshow": {
     "slide_type": "slide"
    }
   },
   "source": [
    "\n",
    "- __No unified solutions__ to deploy conventional statistical methods to distributed computing platform.\n",
    "\n",
    "- __Steep learning curve__ for using distributed computing.\n",
    "\n",
    "- Could not balance between __estimator efficiency and communication cost__.\n",
    "\n",
    "- __Unrealistic models assumptions__, e.g. requiring data randomly distributed."
   ]
  },
  {
   "cell_type": "markdown",
   "id": "95280326",
   "metadata": {
    "slideshow": {
     "slide_type": "slide"
    }
   },
   "source": [
    "## Spark APIs for statisticians to develop distributed models"
   ]
  },
  {
   "cell_type": "markdown",
   "id": "a92efe90",
   "metadata": {
    "slideshow": {
     "slide_type": "slide"
    }
   },
   "source": [
    "### UDFs for DataFrames-based API\n",
    "\n",
    "- User-Defined Functions (UDFs) are a feature of Spark that allows users to define their own functions when the system's built-in functions are not enough to perform the desired task.\n",
    "\n",
    "- The API is available in Spark (>= 2.3).\n",
    "\n",
    "- It runs with PySpark (requiring Apache `Arrow`) and Scala."
   ]
  },
  {
   "cell_type": "markdown",
   "id": "b07fddad",
   "metadata": {
    "slideshow": {
     "slide_type": "slide"
    }
   },
   "source": [
    "###  RDD API with linear algebra support\n",
    "\n",
    "\n",
    "- MLlib uses linear algebra packages [`Breeze`](http://www.scalanlp.org/), [`dev.ludovic.netlib`](https://github.com/luhenry/netlib), and [`netlib-java`](https://github.com/fommil/netlib-java) for optimized numerical processing.\n",
    "\n",
    "- Only available in Scala. \n",
    "\n",
    "- Steep learning curve."
   ]
  },
  {
   "cell_type": "markdown",
   "id": "bc9f552a",
   "metadata": {
    "slideshow": {
     "slide_type": "slide"
    }
   },
   "source": [
    "#### Linear algebra and optimization\n",
    "\n",
    "- __`ml.linalg.`__ `Matrix()`, `DenseMatrix()`, `SparseMatrix()` \n",
    "\n",
    "- __`mllib.linalg.`__ `SingularValueDecomposition()`, `QRDecomposition()`\n",
    "- __`mllib.linalg.distributed.`__ `BlockMatrix()`, `CoordinateMatrix()`, `IndexedRow()`, `IndexedRowMatrix()`, `RowMatrix()`\n",
    "- __`mllib.optimization.`__ `LBFGS()`, `GradientDescent()`"
   ]
  },
  {
   "cell_type": "markdown",
   "id": "f9d2d967",
   "metadata": {
    "slideshow": {
     "slide_type": "slide"
    }
   },
   "source": [
    "#### Random variable generator and distribution\n",
    "\n",
    "- __`mllib.random.`__ `GammaGenerator()`, `LogNormalGenerator()`, `PoissonGenerator()`, `StandardNormalGenerator()`, `UniformGenerator()`, `WeibullGenerator()`, `ExponentialGenerator()`\n",
    "\n",
    "- __`mllib.stat.distribution.`__ `MultivariateGaussian()`"
   ]
  },
  {
   "cell_type": "markdown",
   "id": "810bcaf7",
   "metadata": {
    "slideshow": {
     "slide_type": "slide"
    }
   },
   "source": [
    "## Real projects on Spark\n",
    "\n",
    "\n",
    "Code available at https://github.com/feng-li/dstats"
   ]
  },
  {
   "cell_type": "markdown",
   "id": "c047ab70",
   "metadata": {
    "slideshow": {
     "slide_type": "slide"
    }
   },
   "source": [
    "### DLSA: Least squares approximation for a distributed system\n",
    "\n",
    "in _Journal of Computational and Graphical Statistics, 2021_ (with Xuening Zhu & Hansheng Wang) https://doi.org/10.1080/10618600.2021.1923517\n",
    "\n",
    "\n",
    "- We estimate the parameter $\\theta$ on each worker separately by using local data on distributed workers. This can be done efficiently by using standard statistical estimation methods (e.g., maximum likelihood estimation). \n",
    "\n",
    "- Each worker passes the local estimator of $\\theta$ and its asymptotic\n",
    "  covariance estimate to the master.\n",
    "\n",
    "- A weighted least squares-type objective function can be constructed. This can be viewed as a local quadratic approximation of the global log-likelihood functions. "
   ]
  },
  {
   "cell_type": "markdown",
   "id": "96260642",
   "metadata": {
    "slideshow": {
     "slide_type": "slide"
    }
   },
   "source": [
    "**Efficiency and cost effectiveness**\n",
    "\n",
    "- A standard industrial-level architecture Spark-on-YARN cluster on the Alibaba cloud server consists of one master node and two worker nodes. Each node contains 64 virtual cores, 64 GB of RAM and two 80 GB SSD local hard drives. (cost 300 RMB per day}.\n",
    "\n",
    "- We find that $26.2$ minutes are needed for DLSA.\n",
    "\n",
    "- The traditional MLE takes more that $15$ hours and obtains an inferior result (cost 187 RMB). \n",
    "    \n",
    "- That means we have saved 97% computational power. (cost only 6 RMB)."
   ]
  },
  {
   "cell_type": "markdown",
   "id": "d6be7286",
   "metadata": {
    "slideshow": {
     "slide_type": "slide"
    }
   },
   "source": [
    "### Distributed quantile regression by pilot sampling and one-step updating\n",
    "\n",
    "in _Journal of Business and Economic Statistics, 2021_ (with Rui Pan, Tunan Ren, Baishan Guo, Guodong Li & Hansheng Wang) https://doi.org/10.1080/07350015.2021.1961789\n",
    "\n",
    "\n",
    "- We conduct a random sampling of size $n$ from the distributed system, where $n$ is much smaller than the whole sample size $N$.\n",
    "\n",
    "- Thereafter, a standard quantile regression estimator can be obtained on the master, which is referred to as the _pilot estimator_.\n",
    "\n",
    "- To further enhance the statistical efficiency, we propose a one-step Newton-Raphson type algorithm to upgrade the pilot estimator. "
   ]
  },
  {
   "cell_type": "markdown",
   "id": "dc077ffc",
   "metadata": {
    "slideshow": {
     "slide_type": "slide"
    }
   },
   "source": [
    "### Distributed ARIMA models for ultra-long time series\n",
    "\n",
    "in [arXiv:2007.09577](https://arxiv.org/abs/2007.09577) (with Xiaoqian Wang, Yanfei Kang and Rob J Hyndman)\n",
    "\n",
    "\n",
    "- We develop a novel distributed forecasting framework to tackle challenges associated with forecasting ultra-long time series. \n",
    "\n",
    "- The proposed model combination approach facilitates distributed time series forecasting by combining the local estimators of time series models delivered from worker nodes and minimizing a global loss function. \n",
    "\n",
    "- In this way, instead of unrealistically assuming the data generating process (DGP) of an ultra-long time series stays invariant, we make assumptions only on the DGP of subseries spanning shorter time periods.\n"
   ]
  },
  {
   "cell_type": "markdown",
   "id": "9f53a442",
   "metadata": {
    "slideshow": {
     "slide_type": "slide"
    }
   },
   "source": [
    "![DARIMA](figures/darima.png)"
   ]
  },
  {
   "cell_type": "markdown",
   "id": "ee3ed61f",
   "metadata": {
    "slideshow": {
     "slide_type": "slide"
    }
   },
   "source": [
    "## Take home message\n",
    "\n",
    "- Distributed modeling, computing and visualization are the future of statistics. \n",
    "\n",
    "- Spark is not the only software for distributed statistical computing,\n",
    "\n",
    "- But is the easiest one."
   ]
  }
 ],
 "metadata": {
  "celltoolbar": "Slideshow",
  "kernelspec": {
   "display_name": "Python 3 (ipykernel)",
   "language": "python",
   "name": "python3"
  },
  "language_info": {
   "codemirror_mode": {
    "name": "ipython",
    "version": 3
   },
   "file_extension": ".py",
   "mimetype": "text/x-python",
   "name": "python",
   "nbconvert_exporter": "python",
   "pygments_lexer": "ipython3",
   "version": "3.10.14"
  },
  "rise": {
   "auto_select": "first",
   "autolaunch": false,
   "enable_chalkboard": true,
   "start_slideshow_at": "selected",
   "theme": "serif"
  },
  "toc": {
   "base_numbering": 1,
   "nav_menu": {},
   "number_sections": false,
   "sideBar": false,
   "skip_h1_title": true,
   "title_cell": "Outline",
   "title_sidebar": "Contents",
   "toc_cell": true,
   "toc_position": {
    "height": "calc(100% - 180px)",
    "left": "10px",
    "top": "150px",
    "width": "268.167px"
   },
   "toc_section_display": true,
   "toc_window_display": true
  }
 },
 "nbformat": 4,
 "nbformat_minor": 5
}
